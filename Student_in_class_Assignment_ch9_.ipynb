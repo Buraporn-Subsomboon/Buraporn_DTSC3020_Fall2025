{
  "nbformat": 4,
  "nbformat_minor": 0,
  "metadata": {
    "colab": {
      "provenance": [],
      "include_colab_link": true
    },
    "kernelspec": {
      "name": "python3",
      "display_name": "Python 3"
    },
    "language_info": {
      "name": "python"
    }
  },
  "cells": [
    {
      "cell_type": "markdown",
      "metadata": {
        "id": "view-in-github",
        "colab_type": "text"
      },
      "source": [
        "<a href=\"https://colab.research.google.com/github/Buraporn-Subsomboon/Buraporn_DTSC3020_Fall2025/blob/main/Student_in_class_Assignment_ch9_.ipynb\" target=\"_parent\"><img src=\"https://colab.research.google.com/assets/colab-badge.svg\" alt=\"Open In Colab\"/></a>"
      ]
    },
    {
      "cell_type": "markdown",
      "source": [
        "create a class called InventoryItem that represents a single product in stock — for example, an apple in a grocery store. The class keeps track of the product’s name, price, quantity, and minimum stock level (the level where we might need to reorder).\n",
        "\n",
        "......\n",
        "\n",
        "When you store the attributes, convert types as follows:\n",
        "\n",
        "• name → str(name)\n",
        "\n",
        "• price → float(price)\n",
        "\n",
        "• quantity → int(quantity) (default 0)\n",
        "\n",
        "• min_stock → int(min_stock) (default 0)\n",
        "\n",
        "Validation:\n",
        "\n",
        "• If any of price, quantity, or min_stock is negative, raise ValueError with a clear message.\n",
        "\n",
        "......\n",
        "\n",
        "Methods to implement\n",
        "\n",
        "restock(self, qty)\n",
        "• If qty is negative, raise ValueError.\n",
        "\n",
        "• Otherwise, increase quantity by qty.\n",
        "\n",
        "sell(self, qty)\n",
        "• If qty is not positive (≤ 0), raise ValueError.\n",
        "\n",
        "• If there is enough stock (self.quantity >= qty), decrease quantity by qty and return True.\n",
        "\n",
        "• Otherwise, return False (do not change quantity).\n",
        "\n",
        "value(self)\n",
        "• Return the total value of this item in stock:\n",
        "\n",
        "price * quantity (a float).\n",
        "\n",
        "repr(self)\n",
        "Provide a readable text description of the object when printed.\n",
        "\n",
        "return (f\"InventoryItem(name={self.name}, price={self.price}, \" f\"qty={self.quantity}, min_stock={self.min_stock})\")\n",
        "\n",
        "........\n",
        "\n",
        "• Return a developer-friendly string that shows all fields, for example: InventoryItem(name='Apple', price=0.5, quantity=3, min_stock=1)"
      ],
      "metadata": {
        "id": "vW98iSj6mCjt"
      }
    },
    {
      "cell_type": "code",
      "execution_count": 12,
      "metadata": {
        "id": "Hayuin-1lkgP",
        "colab": {
          "base_uri": "https://localhost:8080/",
          "height": 384
        },
        "outputId": "5009423d-8d26-4a60-9847-0aa6a9d94a0f"
      },
      "outputs": [
        {
          "output_type": "stream",
          "name": "stdout",
          "text": [
            "InventoryItem(name='Apple', price=0.5, )qty=3, min_stock=1)\n",
            "1.5\n",
            "InventoryItem(name='Apple', price=0.5, )qty=5, min_stock=1)\n"
          ]
        },
        {
          "output_type": "error",
          "ename": "TypeError",
          "evalue": "'int' object is not callable",
          "traceback": [
            "\u001b[0;31m---------------------------------------------------------------------------\u001b[0m",
            "\u001b[0;31mTypeError\u001b[0m                                 Traceback (most recent call last)",
            "\u001b[0;32m/tmp/ipython-input-1288492420.py\u001b[0m in \u001b[0;36m<cell line: 0>\u001b[0;34m()\u001b[0m\n\u001b[1;32m      1\u001b[0m \u001b[0;31m# Write your answer here\u001b[0m\u001b[0;34m\u001b[0m\u001b[0;34m\u001b[0m\u001b[0m\n\u001b[0;32m----> 2\u001b[0;31m \u001b[0;32mclass\u001b[0m \u001b[0mInventoryItem\u001b[0m\u001b[0;34m:\u001b[0m\u001b[0;34m\u001b[0m\u001b[0;34m\u001b[0m\u001b[0m\n\u001b[0m\u001b[1;32m      3\u001b[0m   \u001b[0;32mdef\u001b[0m \u001b[0m__init__\u001b[0m\u001b[0;34m(\u001b[0m\u001b[0mself\u001b[0m\u001b[0;34m,\u001b[0m \u001b[0mname\u001b[0m\u001b[0;34m,\u001b[0m \u001b[0mprice\u001b[0m\u001b[0;34m,\u001b[0m \u001b[0mquantity\u001b[0m\u001b[0;34m=\u001b[0m\u001b[0;36m0\u001b[0m\u001b[0;34m,\u001b[0m \u001b[0mmin_stock\u001b[0m\u001b[0;34m=\u001b[0m\u001b[0;36m0\u001b[0m\u001b[0;34m)\u001b[0m\u001b[0;34m:\u001b[0m\u001b[0;34m\u001b[0m\u001b[0;34m\u001b[0m\u001b[0m\n\u001b[1;32m      4\u001b[0m     \u001b[0mself\u001b[0m\u001b[0;34m.\u001b[0m\u001b[0mname\u001b[0m \u001b[0;34m=\u001b[0m \u001b[0mstr\u001b[0m\u001b[0;34m(\u001b[0m\u001b[0mname\u001b[0m\u001b[0;34m)\u001b[0m\u001b[0;34m\u001b[0m\u001b[0;34m\u001b[0m\u001b[0m\n\u001b[1;32m      5\u001b[0m     \u001b[0mself\u001b[0m\u001b[0;34m.\u001b[0m\u001b[0mprice\u001b[0m \u001b[0;34m=\u001b[0m \u001b[0mfloat\u001b[0m\u001b[0;34m(\u001b[0m\u001b[0mprice\u001b[0m\u001b[0;34m)\u001b[0m\u001b[0;34m\u001b[0m\u001b[0;34m\u001b[0m\u001b[0m\n",
            "\u001b[0;32m/tmp/ipython-input-1288492420.py\u001b[0m in \u001b[0;36mInventoryItem\u001b[0;34m()\u001b[0m\n\u001b[1;32m     32\u001b[0m   \u001b[0mitem\u001b[0m\u001b[0;34m.\u001b[0m\u001b[0mrestock\u001b[0m\u001b[0;34m(\u001b[0m\u001b[0;36m2\u001b[0m\u001b[0;34m)\u001b[0m\u001b[0;34m\u001b[0m\u001b[0;34m\u001b[0m\u001b[0m\n\u001b[1;32m     33\u001b[0m   \u001b[0mprint\u001b[0m\u001b[0;34m(\u001b[0m\u001b[0mitem\u001b[0m\u001b[0;34m)\u001b[0m\u001b[0;34m\u001b[0m\u001b[0;34m\u001b[0m\u001b[0m\n\u001b[0;32m---> 34\u001b[0;31m   \u001b[0mprint\u001b[0m\u001b[0;34m(\u001b[0m\u001b[0mitem\u001b[0m\u001b[0;34m.\u001b[0m\u001b[0mquantity\u001b[0m\u001b[0;34m(\u001b[0m\u001b[0;34m)\u001b[0m\u001b[0;34m)\u001b[0m\u001b[0;34m\u001b[0m\u001b[0;34m\u001b[0m\u001b[0m\n\u001b[0m\u001b[1;32m     35\u001b[0m   \u001b[0mitem\u001b[0m\u001b[0;34m.\u001b[0m\u001b[0msell\u001b[0m\u001b[0;34m(\u001b[0m\u001b[0;36m4\u001b[0m\u001b[0;34m)\u001b[0m\u001b[0;34m\u001b[0m\u001b[0;34m\u001b[0m\u001b[0m\n\u001b[1;32m     36\u001b[0m   \u001b[0mprint\u001b[0m\u001b[0;34m(\u001b[0m\u001b[0mitem\u001b[0m\u001b[0;34m.\u001b[0m\u001b[0mquantity\u001b[0m\u001b[0;34m(\u001b[0m\u001b[0;34m)\u001b[0m\u001b[0;34m)\u001b[0m\u001b[0;34m\u001b[0m\u001b[0;34m\u001b[0m\u001b[0m\n",
            "\u001b[0;31mTypeError\u001b[0m: 'int' object is not callable"
          ]
        }
      ],
      "source": [
        "# Write your answer here\n",
        "class InventoryItem:\n",
        "  def __init__(self, name, price, quantity=0, min_stock=0):\n",
        "    self.name = str(name)\n",
        "    self.price = float(price)\n",
        "    self.quantity = int(quantity)\n",
        "    self.min_stock = int(min_stock)\n",
        "    if self.price < 0 or self.quantity < 0 or self.min_stock < 0:\n",
        "      raise ValueError(\"price, quantity, or min_stock cannot be negative\")\n",
        "  def restock(self, qty):\n",
        "    if qty < 0:\n",
        "      raise ValueError(\"Restock quanity cannot be negative\")\n",
        "    self.quantity += qty\n",
        "  def sell(self, qty):\n",
        "    if qty <= 0:\n",
        "      raise ValueError(\"Sell quantity must be positive\")\n",
        "    if self.quantity >= qty:\n",
        "      self.quantity -= qty\n",
        "      return True\n",
        "    return False\n",
        "  def value(self):\n",
        "    return self.price * self.quantity\n",
        "  def __repr__(self):\n",
        "    return (f\"InventoryItem(name={self.name}, price={self.price}, \" f\"qty={self.quantity}, min_stock={self.min_stock})\")\n",
        "\n",
        "  def __str__(self) -> str:\n",
        "    return (f\"InventoryItem(name={repr(self.name)}, price={self.price}, )\" f\"qty={self.quantity}, min_stock={self.min_stock})\")\n",
        "\n",
        "  item = InventoryItem(\"Apple\", 0.5, 3, 1)\n",
        "  print(item)\n",
        "  print(item.value())\n",
        "  item.restock(2)\n",
        "  print(item)\n",
        "  print(item.quantity())\n",
        "  item.sell(4)\n",
        "  print(item.quantity())\n"
      ]
    }
  ]
}