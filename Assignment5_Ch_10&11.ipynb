{
  "cells": [
    {
      "cell_type": "markdown",
      "metadata": {
        "id": "view-in-github",
        "colab_type": "text"
      },
      "source": [
        "<a href=\"https://colab.research.google.com/github/Buraporn-Subsomboon/Buraporn_DTSC3020_Fall2025/blob/main/Assignment5_Ch_10%2611.ipynb\" target=\"_parent\"><img src=\"https://colab.research.google.com/assets/colab-badge.svg\" alt=\"Open In Colab\"/></a>"
      ]
    },
    {
      "cell_type": "markdown",
      "id": "9903d230",
      "metadata": {
        "id": "9903d230"
      },
      "source": [
        "# Assignment5: CRM Cleanup @ **DalaShop**\n",
        "*Files (Ch.10), Exceptions (Ch.10), Unit Tests (Ch.11), and Regular Expressions*  \n",
        ".....\n",
        "\n",
        "**Total: 3 points**  (Two questions, 1.5 pts each)  \n",
        "\n",
        "> This assignment is scenario-based and aligned with Python Crash Course Ch.10 (files & exceptions), Ch.11 (unit testing with `unittest`), and Regular Expressions."
      ]
    },
    {
      "cell_type": "markdown",
      "id": "d6487401",
      "metadata": {
        "id": "d6487401"
      },
      "source": [
        "## Scenario\n",
        "You are a data intern at an online retailer called **DalaShop**.  \n",
        "Sales exported a **raw contacts** file from the CRM. It contains customer names, emails, and phone numbers, but the formatting is messy and some emails are invalid.  \n",
        "Your tasks:\n",
        "\n",
        "1. **Clean** the contacts (Files + Exceptions + Regex).  \n",
        "2. **Write unit tests** to make sure your helper functions work correctly and keep working in the future."
      ]
    },
    {
      "cell_type": "markdown",
      "id": "0bd1712f",
      "metadata": {
        "id": "0bd1712f"
      },
      "source": [
        "## Data file (given by the company): `contacts_raw.txt`\n",
        "Use this exact sample data (you may extend it for your own testing, but do **not** change it when submitting).  \n",
        "Run the next cell once to create the file beside your notebook."
      ]
    },
    {
      "cell_type": "code",
      "execution_count": null,
      "id": "c395a1a8",
      "metadata": {
        "id": "c395a1a8"
      },
      "outputs": [],
      "source": [
        "# Create the provided company dataset file\n",
        "with open(\"contacts_raw.txt\", \"w\", encoding=\"utf-8\") as f:\n",
        "    f.write('Alice Johnson <alice@example.com> , +1 (469) 555-1234\\nBob Roberts <bob[at]example.com> , 972-555-777\\nSara M. , sara@mail.co , 214 555 8888\\n\"Mehdi A.\" <mehdi.ay@example.org> , (469)555-9999\\nDelaram <delaram@example.io>, +1-972-777-2121\\nNima <NIMA@example.io> , 972.777.2121\\nduplicate <Alice@Example.com> , 469 555 1234')\n",
        "print(\"Wrote contacts_raw.txt with sample DalaShop data.\")"
      ]
    },
    {
      "cell_type": "markdown",
      "id": "1b535f73",
      "metadata": {
        "id": "1b535f73"
      },
      "source": [
        "## Q1 (1.5 pts) — CRM cleanup with Files, Exceptions, and Regex\n",
        "Implement `q1_crm_cleanup.py` to:\n",
        "\n",
        "1. **Read** `contacts_raw.txt` using `pathlib` and `with`. If the file is missing, **handle** it gracefully with `try/except FileNotFoundError` (print a friendly message; do not crash).\n",
        "2. **Validate emails** with a simple regex (`r\"[A-Za-z0-9._%+-]+@[A-Za-z0-9.-]+\\.[A-Za-z]{2,}\"`).  \n",
        "   - Trim whitespace with `strip()` before checking.  \n",
        "   - Use **full** matching (not partial).\n",
        "3. **Normalize phone numbers:** remove all non-digits (e.g., with `re.sub(r\"\\D\", \"\", raw)`).  \n",
        "   - If the result has **≥ 10 digits**, keep the **last 10 digits**.  \n",
        "   - Otherwise, return an **empty string** (`\"\"`).\n",
        "4. **Filter rows:** keep **only** rows with a valid email.\n",
        "5. **Deduplicate:** remove duplicates by **email** using **case-insensitive** comparison (e.g., `email.casefold()`). **Keep the first occurrence** and drop later duplicates.\n",
        "6. **Output CSV:** write to `contacts_clean.csv` with **columns exactly** `name,email,phone` (UTF-8).  \n",
        "7. **Preserve input order:** the order of rows in `contacts_clean.csv` must match the **first appearance** order from the input file. **Do not sort** the rows.\n",
        "\n",
        "**Grading rubric (1.5 pts):**\n",
        "- (0.4) File read/write via `pathlib` + graceful `FileNotFoundError` handling  \n",
        "- (0.5) Correct email regex validation + filtering  \n",
        "- (0.4) Phone normalization + case-insensitive de-dup (keep first)  \n",
        "- (0.2) Clean code, clear names, minimal docstrings/comments"
      ]
    },
    {
      "cell_type": "code",
      "source": [
        "# q1-style implementation inside the notebook (file I/O, exceptions, regex, de-dup, CSV)\n",
        "from pathlib import Path\n",
        "import csv\n",
        "import re\n",
        "from typing import Iterable, List, Tuple, Optional\n",
        "\n",
        "EMAIL_RE = re.compile(r\"[A-Za-z0-9._%+-]+@[A-Za-z0-9.-]+\\.[A-Za-z]{2,}\")\n",
        "NON_DIGIT_RE = re.compile(r\"\\D\")\n",
        "\n",
        "def is_valid_email(email: str) -> bool:\n",
        "    if email is None:\n",
        "        return False\n",
        "    email = email.strip()\n",
        "    return re.fullmatch(EMAIL_RE, email) is not None\n",
        "\n",
        "def normalize_phone(raw: str) -> str:\n",
        "    if raw is None:\n",
        "        return \"\"\n",
        "    digits = NON_DIGIT_RE.sub(\"\", raw)\n",
        "    if len(digits) >= 10:\n",
        "        return digits[-10:]\n",
        "    return \"\"\n",
        "\n",
        "def _strip_quotes_preserve(s: str) -> str:\n",
        "    return s.strip()\n",
        "\n",
        "def extract_first_email(line: str) -> Optional[str]:\n",
        "    m = EMAIL_RE.search(line)\n",
        "    return m.group(0) if m else None\n",
        "\n",
        "def extract_name_and_phone(line: str, email: str) -> Tuple[str, str]:\n",
        "    raw = line.strip()\n",
        "    name = \"\"\n",
        "    phone_raw = \"\"\n",
        "\n",
        "    if \"<\" in raw and \">\" in raw:\n",
        "        before = raw.split(\"<\", 1)[0]\n",
        "        name = _strip_quotes_preserve(before).strip().strip(\",\")\n",
        "        parts = [p.strip() for p in raw.split(\",\")]\n",
        "        for part in reversed(parts):\n",
        "            if any(ch.isdigit() for ch in part):\n",
        "                phone_raw = part\n",
        "                break\n",
        "    else:\n",
        "        parts = [p.strip() for p in raw.split(\",\")]\n",
        "        for p in parts:\n",
        "            if p and p != email and any(ch.isalpha() for ch in p):\n",
        "                if email not in p:\n",
        "                    name = _strip_quotes_preserve(p)\n",
        "                    break\n",
        "        for p in reversed(parts):\n",
        "            if any(ch.isdigit() for ch in p):\n",
        "                phone_raw = p\n",
        "                break\n",
        "\n",
        "    return name.strip(), phone_raw.strip()\n",
        "\n",
        "def parse_contacts_lines(lines: Iterable[str]) -> List[Tuple[str, str, str]]:\n",
        "    seen = set()\n",
        "    rows: List[Tuple[str, str, str]] = []\n",
        "    for line in lines:\n",
        "        if not line or not line.strip():\n",
        "            continue\n",
        "        email_found = extract_first_email(line)\n",
        "        if not email_found:\n",
        "            continue\n",
        "        email_clean = email_found.strip()\n",
        "        if not is_valid_email(email_clean):\n",
        "            continue\n",
        "        key = email_clean.casefold()\n",
        "        if key in seen:\n",
        "            continue\n",
        "        name, phone_raw = extract_name_and_phone(line, email_clean)\n",
        "        phone_norm = normalize_phone(phone_raw)\n",
        "        rows.append((name, email_clean, phone_norm))\n",
        "        seen.add(key)\n",
        "    return rows\n",
        "\n",
        "def run_cleanup(raw_filename: str = \"contacts_raw.txt\",\n",
        "                out_filename: str = \"contacts_clean.csv\") -> None:\n",
        "    \"\"\"Read raw file, clean & dedup, then write CSV. Gracefully handle missing file.\"\"\"\n",
        "    raw_path = Path(raw_filename)\n",
        "    out_path = Path(out_filename)\n",
        "    try:\n",
        "        with raw_path.open(\"r\", encoding=\"utf-8\") as f:\n",
        "            lines = f.read().splitlines()\n",
        "    except FileNotFoundError:\n",
        "        print(\"contacts_raw.txt not found. Please ensure the file exists beside this notebook.\")\n",
        "        return\n",
        "\n",
        "    rows = parse_contacts_lines(lines)\n",
        "\n",
        "    with out_path.open(\"w\", newline=\"\", encoding=\"utf-8\") as csvfile:\n",
        "        writer = csv.writer(csvfile)\n",
        "        writer.writerow([\"name\", \"email\", \"phone\"])\n",
        "        for name, email, phone in rows:\n",
        "            writer.writerow([name, email, phone])\n",
        "\n",
        "    print(f\"Wrote {out_path.name} with {len(rows)} rows.\")\n",
        "\n",
        "run_cleanup()\n"
      ],
      "metadata": {
        "id": "gO9xaHmKNlax",
        "colab": {
          "base_uri": "https://localhost:8080/"
        },
        "outputId": "00b8d75b-7bd9-4744-b046-136b2c0acc11"
      },
      "id": "gO9xaHmKNlax",
      "execution_count": 13,
      "outputs": [
        {
          "output_type": "stream",
          "name": "stdout",
          "text": [
            "contacts_raw.txt not found. Please ensure the file exists beside this notebook.\n"
          ]
        }
      ]
    },
    {
      "cell_type": "markdown",
      "id": "258c5b04",
      "metadata": {
        "id": "258c5b04"
      },
      "source": [
        "## Q2 (1.5 pts) — Unit testing with `unittest`\n",
        "Create tests in `test_crm_cleanup.py` that cover at least:\n",
        "\n",
        "1. **Email validation**: valid/invalid variations.  \n",
        "2. **Phone normalization**: parentheses, dashes, spaces, country code; too-short cases.  \n",
        "3. **Parsing**: from a small multi-line string (not from a file), assert the exact structured rows (name/email/phone).  \n",
        "4. **De-duplication**: demonstrate that a case-variant duplicate email is dropped (first occurrence kept).\n",
        "\n",
        "\n"
      ]
    },
    {
      "cell_type": "code",
      "source": [
        "import unittest\n",
        "\n",
        "class TestEmailValidation(unittest.TestCase):\n",
        "    def test_valid_emails(self):\n",
        "        self.assertTrue(is_valid_email(\"alice@example.com\"))\n",
        "        self.assertTrue(is_valid_email(\"MEHDI.AY+vip@example.org\"))\n",
        "        self.assertTrue(is_valid_email(\"x_y.z-1@sub.example.co\"))\n",
        "\n",
        "    def test_invalid_emails(self):\n",
        "        self.assertFalse(is_valid_email(\"bob[at]example.com\"))\n",
        "        self.assertFalse(is_valid_email(\"no-at-symbol.example.com\"))\n",
        "        self.assertFalse(is_valid_email(\"name@example\"))\n",
        "        self.assertFalse(is_valid_email(\"name@.com\"))\n",
        "\n",
        "class TestPhoneNormalization(unittest.TestCase):\n",
        "    def test_various_formats_to_last10(self):\n",
        "        self.assertEqual(normalize_phone(\"+1 (469) 555-1234\"), \"4695551234\")\n",
        "        self.assertEqual(normalize_phone(\"(469)555-9999\"), \"4695559999\")\n",
        "        self.assertEqual(normalize_phone(\"972.777.2121\"), \"9727772121\")\n",
        "        self.assertEqual(normalize_phone(\"1-972-777-2121\"), \"9727772121\")\n",
        "        self.assertEqual(normalize_phone(\"214 555 8888\"), \"2145558888\")\n",
        "\n",
        "    def test_too_short(self):\n",
        "        self.assertEqual(normalize_phone(\"972-555-77\"), \"\")\n",
        "\n",
        "    def test_none_and_empty(self):\n",
        "        self.assertEqual(normalize_phone(None), \"\")\n",
        "        self.assertEqual(normalize_phone(\"\"), \"\")\n",
        "\n",
        "class TestParsingAndDedup(unittest.TestCase):\n",
        "    def test_parse_multiline_and_structure(self):\n",
        "        raw = [\n",
        "            'Alice Johnson <alice@example.com> , +1 (469) 555-1234',\n",
        "            'Bob Roberts <bob[at]example.com> , 972-555-777',\n",
        "            'Sara M. , sara@mail.co , 214 555 8888',\n",
        "            '\"Mehdi A.\" <mehdi.ay@example.org> , (469)555-9999',\n",
        "            'Delaram <delaram@example.io>, +1-972-777-2121',\n",
        "            'Nima <NIMA@example.io> , 972.777.2121',\n",
        "            'duplicate <Alice@Example.com> , 469 555 1234'\n",
        "        ]\n",
        "        rows = parse_contacts_lines(raw)\n",
        "        expected = [\n",
        "            ('Alice Johnson', 'alice@example.com', '4695551234'),\n",
        "            ('Sara M.', 'sara@mail.co', '2145558888'),\n",
        "            ('\"Mehdi A.\"', 'mehdi.ay@example.org', '4695559999'),\n",
        "            ('Delaram', 'delaram@example.io', '9727772121'),\n",
        "            ('Nima', 'NIMA@example.io', '9727772121'),\n",
        "        ]\n",
        "        self.assertEqual(rows, expected)\n",
        "\n",
        "    def test_dedup_case_insensitive(self):\n",
        "        raw = [\n",
        "            \"n1 <USER@Example.com>, 111-222-3333\",\n",
        "            \"n2 <user@example.com>, 444-555-6666\",\n",
        "        ]\n",
        "        rows = parse_contacts_lines(raw)\n",
        "        self.assertEqual(rows, [('n1', 'USER@Example.com', '1112223333')])\n",
        "\n",
        "unittest.TextTestRunner(verbosity=2).run(\n",
        "    unittest.defaultTestLoader.loadTestsFromModule(__import__(__name__))\n",
        ")\n"
      ],
      "metadata": {
        "id": "_M18cJw2NqZm",
        "colab": {
          "base_uri": "https://localhost:8080/"
        },
        "outputId": "f8276e0d-8c67-4650-fcbd-5ec1fd207566"
      },
      "id": "_M18cJw2NqZm",
      "execution_count": 12,
      "outputs": [
        {
          "output_type": "stream",
          "name": "stderr",
          "text": [
            "test_email_validity (__main__.TestCRM.test_email_validity) ... ok\n",
            "test_parse_and_dedup (__main__.TestCRM.test_parse_and_dedup) ... ok\n",
            "test_phone_normalization (__main__.TestCRM.test_phone_normalization) ... ok\n",
            "test_invalid_emails (__main__.TestEmailValidation.test_invalid_emails) ... ok\n",
            "test_valid_emails (__main__.TestEmailValidation.test_valid_emails) ... ok\n",
            "test_dedup_case_insensitive (__main__.TestParsingAndDedup.test_dedup_case_insensitive) ... ok\n",
            "test_parse_multiline_and_structure (__main__.TestParsingAndDedup.test_parse_multiline_and_structure) ... FAIL\n",
            "test_none_and_empty (__main__.TestPhoneNormalization.test_none_and_empty) ... ok\n",
            "test_too_short (__main__.TestPhoneNormalization.test_too_short) ... ok\n",
            "test_various_formats_to_last10 (__main__.TestPhoneNormalization.test_various_formats_to_last10) ... ok\n",
            "\n",
            "======================================================================\n",
            "FAIL: test_parse_multiline_and_structure (__main__.TestParsingAndDedup.test_parse_multiline_and_structure)\n",
            "----------------------------------------------------------------------\n",
            "Traceback (most recent call last):\n",
            "  File \"/tmp/ipython-input-1888667164.py\", line 49, in test_parse_multiline_and_structure\n",
            "    self.assertEqual(rows, expected)\n",
            "AssertionError: Lists differ: [('Al[90 chars]), ('Mehdi A.', 'mehdi.ay@example.org', '46955[95 chars]21')] != [('Al[90 chars]), ('\"Mehdi A.\"', 'mehdi.ay@example.org', '469[97 chars]21')]\n",
            "\n",
            "First differing element 2:\n",
            "('Mehdi A.', 'mehdi.ay@example.org', '4695559999')\n",
            "('\"Mehdi A.\"', 'mehdi.ay@example.org', '4695559999')\n",
            "\n",
            "  [('Alice Johnson', 'alice@example.com', '4695551234'),\n",
            "   ('Sara M.', 'sara@mail.co', '2145558888'),\n",
            "-  ('Mehdi A.', 'mehdi.ay@example.org', '4695559999'),\n",
            "+  ('\"Mehdi A.\"', 'mehdi.ay@example.org', '4695559999'),\n",
            "?    +        +\n",
            "\n",
            "   ('Delaram', 'delaram@example.io', '9727772121'),\n",
            "   ('Nima', 'NIMA@example.io', '9727772121')]\n",
            "\n",
            "----------------------------------------------------------------------\n",
            "Ran 10 tests in 0.018s\n",
            "\n",
            "FAILED (failures=1)\n"
          ]
        },
        {
          "output_type": "execute_result",
          "data": {
            "text/plain": [
              "<unittest.runner.TextTestResult run=10 errors=0 failures=1>"
            ]
          },
          "metadata": {},
          "execution_count": 12
        }
      ]
    },
    {
      "cell_type": "markdown",
      "id": "f38af38b",
      "metadata": {
        "id": "f38af38b"
      },
      "source": [
        "## Grading rubric (total 3 pts)\n",
        "- **Q1 (1.5 pts)**  \n",
        "  - (0.4) File I/O with `pathlib` + graceful `FileNotFoundError` handling  \n",
        "  - (0.5) Email validation (regex + strip + full match) and filtering  \n",
        "  - (0.4) Phone normalization and **case-insensitive** de-duplication (keep first)  \n",
        "  - (0.2) Code clarity (names, minimal docstrings/comments)\n",
        "- **Q2 (1.5 pts)**  \n",
        "  - (0.6) Meaningful coverage for email/phone functions (valid & invalid)  \n",
        "  - (0.6) Parsing & de-dup tests that assert exact expected rows  \n",
        "  - (0.3) Standard `unittest` structure and readable test names\n"
      ]
    }
  ],
  "metadata": {
    "colab": {
      "provenance": [],
      "include_colab_link": true
    },
    "language_info": {
      "name": "python"
    },
    "kernelspec": {
      "name": "python3",
      "display_name": "Python 3"
    }
  },
  "nbformat": 4,
  "nbformat_minor": 5
}