{
  "nbformat": 4,
  "nbformat_minor": 0,
  "metadata": {
    "colab": {
      "provenance": [],
      "include_colab_link": true
    },
    "kernelspec": {
      "name": "python3",
      "display_name": "Python 3"
    },
    "language_info": {
      "name": "python"
    }
  },
  "cells": [
    {
      "cell_type": "markdown",
      "metadata": {
        "id": "view-in-github",
        "colab_type": "text"
      },
      "source": [
        "<a href=\"https://colab.research.google.com/github/Buraporn-Subsomboon/Buraporn_DTSC3020_Fall2025/blob/main/Student_In_Class_Assignment_Ch_8.ipynb\" target=\"_parent\"><img src=\"https://colab.research.google.com/assets/colab-badge.svg\" alt=\"Open In Colab\"/></a>"
      ]
    },
    {
      "cell_type": "markdown",
      "source": [
        "##Final Class Exercise"
      ],
      "metadata": {
        "id": "51gCuC6VJ3gu"
      }
    },
    {
      "cell_type": "markdown",
      "source": [
        "Write a Python function create_email(full_name) that builds a UNT email in the format\n",
        "firstname.lastname@my.unt.edu.\n",
        "\n",
        "Rules\n",
        "\n",
        " • Use the first and last word from full_name (case-insensitive).\n",
        "\n",
        " • Convert everything to lowercase.\n",
        "\n",
        " • If there is only one word, use it twice (e.g., \"ali\" → ali.ali@my.unt.edu).\n",
        "\n",
        " • Return the email string.\n",
        "\n",
        "\n",
        "Constraints\n",
        "\n",
        " • Use a function and return.\n",
        "\n",
        " • Do not use input() or external libraries.\n",
        "\n",
        "\n",
        " test your code with this list\n",
        " names = [\n",
        "    \"Sara Amini\",\n",
        "    \"Ali\",\n",
        "    \"Mary Jane\",\n",
        "    \"  John   Smith  \",\n",
        "    \"LINA\",\n",
        "    \"madonna\",\n",
        "    \"  sara   amini  \"\n",
        "]"
      ],
      "metadata": {
        "id": "7pxJ6i3jH7Yq"
      }
    },
    {
      "cell_type": "code",
      "source": [
        "# Write your solution here.\n",
        "def create_email(full_name):\n",
        "    words = full_name.lower().split()\n",
        "    if not words:\n",
        "        return \"@my.unt.edu\"\n",
        "\n",
        "    first_name = words[0]\n",
        "\n",
        "    if len(words) == 1:\n",
        "        last_name = words[0]\n",
        "    else:\n",
        "      last_name = words[-1]\n",
        "\n",
        "    email = f\"{first_name}.{last_name}@my.unt.edu\"\n",
        "    return email\n",
        "\n",
        "names = [ \"Sara Amini\", \"Ali\", \"Mary Jane\", \" John Smith \", \"LINA\", \"madonna\", \" sara amini \" ]\n",
        "for name in names:\n",
        "    email = create_email(name)\n",
        "    print(name, email)\n",
        "\n"
      ],
      "metadata": {
        "id": "6jcH9Qm_IXWh",
        "colab": {
          "base_uri": "https://localhost:8080/"
        },
        "outputId": "d3590f33-bbf3-4d3e-fb43-5c6c83939003"
      },
      "execution_count": 5,
      "outputs": [
        {
          "output_type": "stream",
          "name": "stdout",
          "text": [
            "Sara Amini sara.amini@my.unt.edu\n",
            "Ali ali.ali@my.unt.edu\n",
            "Mary Jane mary.jane@my.unt.edu\n",
            " John Smith  john.smith@my.unt.edu\n",
            "LINA lina.lina@my.unt.edu\n",
            "madonna madonna.madonna@my.unt.edu\n",
            " sara amini  sara.amini@my.unt.edu\n"
          ]
        }
      ]
    }
  ]
}