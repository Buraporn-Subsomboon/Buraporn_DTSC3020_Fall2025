{
  "cells": [
    {
      "cell_type": "markdown",
      "metadata": {
        "id": "view-in-github",
        "colab_type": "text"
      },
      "source": [
        "<a href=\"https://colab.research.google.com/github/Buraporn-Subsomboon/Buraporn_DTSC3020_Fall2025/blob/main/Assignment4_(ch_6)__(1).ipynb\" target=\"_parent\"><img src=\"https://colab.research.google.com/assets/colab-badge.svg\" alt=\"Open In Colab\"/></a>"
      ]
    },
    {
      "cell_type": "markdown",
      "source": [
        "#DTSC 3020 – Assignment 4\n",
        "Chapter 6 – Dictionaries\n",
        "\n",
        "Total points: 4\n",
        "\n",
        "Deadline: Friday at midnight\n",
        "\n",
        "Submission: Upload your Python file to your GitHub repository and submit only your GitHub link.\n",
        "\n",
        "\n",
        "Expectations\n",
        "Write complete answers and run all cells before submission.\n",
        "Keep the notebook clean (no unnecessary code)."
      ],
      "metadata": {
        "id": "-astqhkqk-sA"
      },
      "id": "-astqhkqk-sA"
    },
    {
      "cell_type": "markdown",
      "source": [
        "Exercise  1: Find and print the student with the lowest grade."
      ],
      "metadata": {
        "id": "Iu8c7M_Rk9AH"
      },
      "id": "Iu8c7M_Rk9AH"
    },
    {
      "cell_type": "code",
      "source": [
        "grades = {\n",
        "    'Ali': 17,\n",
        "    'Sara': 19,\n",
        "    'Reza': 18.5,\n",
        "    'Lina': 20,\n",
        "    'Omid': 16\n",
        "}\n",
        "\n",
        "# Write your code here:\n",
        "\n",
        "lowest = min(grades.values())\n",
        "\n",
        "for name, grade in grades.items():\n",
        "    if grade == lowest:\n",
        "        print(name)\n",
        "\n"
      ],
      "metadata": {
        "id": "qL5VY2kIk4Nc",
        "colab": {
          "base_uri": "https://localhost:8080/"
        },
        "outputId": "824bd08a-5bcf-4bfb-fad1-925412550871"
      },
      "id": "qL5VY2kIk4Nc",
      "execution_count": 2,
      "outputs": [
        {
          "output_type": "stream",
          "name": "stdout",
          "text": [
            "Omid\n"
          ]
        }
      ]
    },
    {
      "cell_type": "markdown",
      "source": [
        "Exercise 2: print names of students who registered for any course containing \"Data\""
      ],
      "metadata": {
        "id": "y880yRq6k58C"
      },
      "id": "y880yRq6k58C"
    },
    {
      "cell_type": "code",
      "source": [
        "courses = {\n",
        "    'Ali': ['Python', 'Math'],\n",
        "    'Sara': ['Data Mining', 'Chemistry'],\n",
        "    'Reza': ['Machine Learning', 'Data Science'],\n",
        "    'Lina': ['English', 'History']\n",
        "}\n",
        "\n",
        "# Write your code here:\n",
        "for key, value in courses.items():\n",
        "    for i in value:\n",
        "        if \"Data\" in i:\n",
        "            print(key)\n"
      ],
      "metadata": {
        "id": "tFfys48Iodlr",
        "colab": {
          "base_uri": "https://localhost:8080/"
        },
        "outputId": "6f325752-5435-466d-d206-5ee20a4cad0a"
      },
      "id": "tFfys48Iodlr",
      "execution_count": 3,
      "outputs": [
        {
          "output_type": "stream",
          "name": "stdout",
          "text": [
            "Sara\n",
            "Reza\n"
          ]
        }
      ]
    },
    {
      "cell_type": "markdown",
      "source": [
        "Exercise 3: Print titles of books that are not available."
      ],
      "metadata": {
        "id": "nUG5vQjeoWWE"
      },
      "id": "nUG5vQjeoWWE"
    },
    {
      "cell_type": "code",
      "source": [
        "library = {\n",
        "    'Python101': {'pages': 180, 'available': True},\n",
        "    'AI Basics': {'pages': 130, 'available': False},\n",
        "    'Math Advanced': {'pages': 200, 'available': False},\n",
        "    'Statistics': {'pages': 175, 'available': True}\n",
        "}\n",
        "\n",
        "# Write your code here:\n",
        "\n",
        "for key, value in library.items():\n",
        "    if value['available'] == False:\n",
        "        print(key)\n",
        "\n"
      ],
      "metadata": {
        "id": "2kFBzKyloecs",
        "colab": {
          "base_uri": "https://localhost:8080/"
        },
        "outputId": "fa25f224-3944-4068-f466-13c43b7e28d3"
      },
      "id": "2kFBzKyloecs",
      "execution_count": 4,
      "outputs": [
        {
          "output_type": "stream",
          "name": "stdout",
          "text": [
            "AI Basics\n",
            "Math Advanced\n"
          ]
        }
      ]
    },
    {
      "cell_type": "markdown",
      "source": [
        "Exercise 4: Print names of students who are registered for more than 2 courses.\n"
      ],
      "metadata": {
        "id": "HA_jFJ3Ro2FJ"
      },
      "id": "HA_jFJ3Ro2FJ"
    },
    {
      "cell_type": "code",
      "source": [
        "\n",
        "registrations = {\n",
        "    'Ali': ['Python', 'Math'],\n",
        "    'Sara': ['Biology', 'Chemistry', 'Math'],\n",
        "    'Reza': ['English'],\n",
        "    'Lina': ['History', 'Physics', 'Geography', 'Art']\n",
        "}\n",
        "\n",
        "# Write your code here:\n",
        "for key, value in registrations.items():\n",
        "    if len(value) > 2:\n",
        "        print(key)"
      ],
      "metadata": {
        "id": "vYXKqs-jk43C",
        "colab": {
          "base_uri": "https://localhost:8080/"
        },
        "outputId": "89e42dfd-3437-4c29-90f5-1f082623cd15"
      },
      "id": "vYXKqs-jk43C",
      "execution_count": 6,
      "outputs": [
        {
          "output_type": "stream",
          "name": "stdout",
          "text": [
            "Sara\n",
            "Lina\n"
          ]
        }
      ]
    },
    {
      "cell_type": "markdown",
      "source": [
        "Exercise 5: Calculate and print the average grade of the class."
      ],
      "metadata": {
        "id": "ZR7nhc-BpHvx"
      },
      "id": "ZR7nhc-BpHvx"
    },
    {
      "cell_type": "code",
      "source": [
        "grades = {\n",
        "    'Ali': 17,\n",
        "    'Sara': 19,\n",
        "    'Reza': 18.5,\n",
        "    'Lina': 20,\n",
        "    'Omid': 16\n",
        "}\n",
        "\n",
        "# Write your code here:\n",
        "total = 0\n",
        "for key, value in grades.items():\n",
        "    total += value\n",
        "print(total/len(grades))\n"
      ],
      "metadata": {
        "id": "6Xbt2zE8pGNJ",
        "colab": {
          "base_uri": "https://localhost:8080/"
        },
        "outputId": "03b89de0-8423-41d3-d1dc-d26ecc9f340b"
      },
      "id": "6Xbt2zE8pGNJ",
      "execution_count": 5,
      "outputs": [
        {
          "output_type": "stream",
          "name": "stdout",
          "text": [
            "18.1\n"
          ]
        }
      ]
    },
    {
      "cell_type": "markdown",
      "source": [
        "Exercise 6: Count and print the number of students registered for \"Python\".\n"
      ],
      "metadata": {
        "id": "U33R5aWYpev_"
      },
      "id": "U33R5aWYpev_"
    },
    {
      "cell_type": "code",
      "source": [
        "courses = {\n",
        "    'Ali': ['Python', 'Math'],\n",
        "    'Sara': ['Biology', 'Chemistry'],\n",
        "    'Reza': ['Python', 'AI'],\n",
        "    'Lina': ['English', 'History'],\n",
        "    'Omid': ['Python']\n",
        "}\n",
        "\n",
        "# Write your code here:\n",
        "\n",
        "for key, value in courses.items():\n",
        "    if \"Python\" in value:\n",
        "        print(key)"
      ],
      "metadata": {
        "id": "Wcjq96gVpliQ",
        "colab": {
          "base_uri": "https://localhost:8080/"
        },
        "outputId": "e1f5bb58-6cbe-4f97-ee45-de3e95b82b34"
      },
      "id": "Wcjq96gVpliQ",
      "execution_count": 7,
      "outputs": [
        {
          "output_type": "stream",
          "name": "stdout",
          "text": [
            "Ali\n",
            "Reza\n",
            "Omid\n"
          ]
        }
      ]
    },
    {
      "cell_type": "markdown",
      "source": [
        "Exercise 7: Print titles of books with more than 200 pages."
      ],
      "metadata": {
        "id": "2tAWS80-p75f"
      },
      "id": "2tAWS80-p75f"
    },
    {
      "cell_type": "code",
      "source": [
        "book_pages = {\n",
        "    'Python101': 180,\n",
        "    'AI Basics': 230,\n",
        "    'Math Advanced': 250,\n",
        "    'Statistics': 190,\n",
        "    'Data Science': 300\n",
        "}\n",
        "\n",
        "\n",
        "# write your answer here\n",
        "for key, value in book_pages.items():\n",
        "    if value > 200:\n",
        "        print(key)\n"
      ],
      "metadata": {
        "id": "OxMTnraWp8Pf",
        "colab": {
          "base_uri": "https://localhost:8080/"
        },
        "outputId": "6f6854a4-ab91-4f48-c5aa-7ad154b41159"
      },
      "id": "OxMTnraWp8Pf",
      "execution_count": 8,
      "outputs": [
        {
          "output_type": "stream",
          "name": "stdout",
          "text": [
            "AI Basics\n",
            "Math Advanced\n",
            "Data Science\n"
          ]
        }
      ]
    },
    {
      "cell_type": "markdown",
      "source": [
        "Exercise 8: Print each student's name and number of registered courses.\n"
      ],
      "metadata": {
        "id": "DTw2a77lqOL1"
      },
      "id": "DTw2a77lqOL1"
    },
    {
      "cell_type": "code",
      "source": [
        "courses = {\n",
        "    'Ali': ['Python', 'Math'],\n",
        "    'Sara': ['Biology', 'Chemistry'],\n",
        "    'Reza': ['Python', 'AI'],\n",
        "    'Lina': ['English', 'History'],\n",
        "    'Omid': ['Python']\n",
        "}\n",
        "\n",
        "# Write your code here:\n",
        "for key, value in courses.items():\n",
        "    print(key, len(value))"
      ],
      "metadata": {
        "id": "hFURuXPTqL8Y",
        "colab": {
          "base_uri": "https://localhost:8080/"
        },
        "outputId": "4dbbec56-a34d-4995-c153-371d98998245"
      },
      "id": "hFURuXPTqL8Y",
      "execution_count": 9,
      "outputs": [
        {
          "output_type": "stream",
          "name": "stdout",
          "text": [
            "Ali 2\n",
            "Sara 2\n",
            "Reza 2\n",
            "Lina 2\n",
            "Omid 1\n"
          ]
        }
      ]
    },
    {
      "cell_type": "markdown",
      "source": [],
      "metadata": {
        "id": "3lHxe4qMqLm1"
      },
      "id": "3lHxe4qMqLm1"
    }
  ],
  "metadata": {
    "colab": {
      "provenance": [],
      "include_colab_link": true
    },
    "language_info": {
      "name": "python"
    },
    "kernelspec": {
      "name": "python3",
      "display_name": "Python 3"
    }
  },
  "nbformat": 4,
  "nbformat_minor": 5
}