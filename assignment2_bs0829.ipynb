{
  "nbformat": 4,
  "nbformat_minor": 0,
  "metadata": {
    "colab": {
      "provenance": [],
      "authorship_tag": "ABX9TyMp12MZ7Tj6J0Kiw/az0aUq",
      "include_colab_link": true
    },
    "kernelspec": {
      "name": "python3",
      "display_name": "Python 3"
    },
    "language_info": {
      "name": "python"
    }
  },
  "cells": [
    {
      "cell_type": "markdown",
      "metadata": {
        "id": "view-in-github",
        "colab_type": "text"
      },
      "source": [
        "<a href=\"https://colab.research.google.com/github/Buraporn-Subsomboon/Buraporn_DTSC3020_Fall2025/blob/main/assignment2_bs0829.ipynb\" target=\"_parent\"><img src=\"https://colab.research.google.com/assets/colab-badge.svg\" alt=\"Open In Colab\"/></a>"
      ]
    },
    {
      "cell_type": "code",
      "execution_count": 4,
      "metadata": {
        "colab": {
          "base_uri": "https://localhost:8080/"
        },
        "id": "cHoLeUEFqWGn",
        "outputId": "bdf9bbb1-c27d-4753-8557-21c291d79f60"
      },
      "outputs": [
        {
          "output_type": "stream",
          "name": "stdout",
          "text": [
            "['apple', 'banana', 'orange']\n",
            "apple\n",
            "banana\n",
            "orange\n"
          ]
        }
      ],
      "source": [
        "fruits = ['apple', 'banana', 'orange']\n",
        "print(fruits)\n",
        "print(fruits[0])\n",
        "print(fruits[-2])\n",
        "print(fruits[-1])"
      ]
    },
    {
      "cell_type": "code",
      "source": [
        "names = ['Alice', 'Micheal', 'Marcus', 'Brenda']\n",
        "print(names)"
      ],
      "metadata": {
        "colab": {
          "base_uri": "https://localhost:8080/"
        },
        "id": "NMj7AcPYrbe_",
        "outputId": "96e703c7-9450-432e-f380-ddd4ccce3e70"
      },
      "execution_count": 3,
      "outputs": [
        {
          "output_type": "stream",
          "name": "stdout",
          "text": [
            "['Alice', 'Micheal', 'Marcus', 'Brenda']\n"
          ]
        }
      ]
    },
    {
      "cell_type": "code",
      "source": [
        "vehicles = ['car', 'bus', 'bike', 'motorcycle', 'boat']\n",
        "vehicles.insert(5, 'train')\n",
        "print(vehicles)"
      ],
      "metadata": {
        "colab": {
          "base_uri": "https://localhost:8080/"
        },
        "id": "uT_hWNPysKKR",
        "outputId": "b4920a76-1d2e-4d0c-e142-38b00c587e75"
      },
      "execution_count": 6,
      "outputs": [
        {
          "output_type": "stream",
          "name": "stdout",
          "text": [
            "['car', 'bus', 'bike', 'motorcycle', 'boat', 'train']\n"
          ]
        }
      ]
    },
    {
      "cell_type": "code",
      "source": [
        "foods = ['ramen', 'burger', 'salad', 'pizza', 'sushi', 'pasta']\n",
        "del foods[2]\n",
        "print(foods)"
      ],
      "metadata": {
        "colab": {
          "base_uri": "https://localhost:8080/"
        },
        "id": "JHOuaaiNsqDg",
        "outputId": "2a199944-48e7-45b8-8d0a-ced68f7cfab2"
      },
      "execution_count": 8,
      "outputs": [
        {
          "output_type": "stream",
          "name": "stdout",
          "text": [
            "['ramen', 'burger', 'pizza', 'sushi', 'pasta']\n"
          ]
        }
      ]
    },
    {
      "cell_type": "code",
      "source": [
        "cities = ['Denton', 'Shanghai', 'Tokyo', 'Bangkok']\n",
        "cities.sort()\n",
        "print(cities)"
      ],
      "metadata": {
        "colab": {
          "base_uri": "https://localhost:8080/"
        },
        "id": "XGqizvYZtHND",
        "outputId": "215d8a0f-bc14-4cad-d56b-9fd982dceda8"
      },
      "execution_count": 10,
      "outputs": [
        {
          "output_type": "stream",
          "name": "stdout",
          "text": [
            "['Bangkok', 'Denton', 'Shanghai', 'Tokyo']\n"
          ]
        }
      ]
    },
    {
      "cell_type": "code",
      "source": [
        "animals = ['tiger', 'giraffe', 'turtle']\n",
        "for animals in animals:\n",
        "  print(animals)"
      ],
      "metadata": {
        "colab": {
          "base_uri": "https://localhost:8080/"
        },
        "id": "94MHghwjtwU7",
        "outputId": "1a6da236-5f85-46b5-adff-7e8f500652b4"
      },
      "execution_count": 12,
      "outputs": [
        {
          "output_type": "stream",
          "name": "stdout",
          "text": [
            "tiger\n",
            "giraffe\n",
            "turtle\n"
          ]
        }
      ]
    },
    {
      "cell_type": "code",
      "source": [
        "friends = ['Katharina', 'Malisone', 'Reicherin', 'Marin', 'Mason', 'Mallorie']\n",
        "print(friends[0:3])\n",
        "print(friends[3:6])"
      ],
      "metadata": {
        "colab": {
          "base_uri": "https://localhost:8080/"
        },
        "id": "1kZ4jtyxuTkf",
        "outputId": "554dd4fe-48f7-4b85-934b-2a77cd90ef86"
      },
      "execution_count": 15,
      "outputs": [
        {
          "output_type": "stream",
          "name": "stdout",
          "text": [
            "['Katharina', 'Malisone', 'Reicherin']\n",
            "['Marin', 'Mason', 'Mallorie']\n"
          ]
        }
      ]
    },
    {
      "cell_type": "code",
      "source": [
        "numRange = list(range(1, 11))\n",
        "print(numRange)"
      ],
      "metadata": {
        "colab": {
          "base_uri": "https://localhost:8080/"
        },
        "id": "vhOe-zhcvEGh",
        "outputId": "487b355e-a5e4-4e2e-c26a-d6bdc76f8d5d"
      },
      "execution_count": 16,
      "outputs": [
        {
          "output_type": "stream",
          "name": "stdout",
          "text": [
            "[1, 2, 3, 4, 5, 6, 7, 8, 9, 10]\n"
          ]
        }
      ]
    },
    {
      "cell_type": "code",
      "source": [
        "squares = []\n",
        "for value in range(1, 6):\n",
        "  square = value ** 2\n",
        "  squares.append(square)\n",
        "print(squares)"
      ],
      "metadata": {
        "colab": {
          "base_uri": "https://localhost:8080/"
        },
        "id": "o32tJwjpv78P",
        "outputId": "b4ec4528-3fba-4fe6-df7e-080a92b754e5"
      },
      "execution_count": 17,
      "outputs": [
        {
          "output_type": "stream",
          "name": "stdout",
          "text": [
            "[1, 4, 9, 16, 25]\n"
          ]
        }
      ]
    }
  ]
}